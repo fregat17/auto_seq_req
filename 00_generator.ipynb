{
 "cells": [
  {
   "cell_type": "code",
   "execution_count": null,
   "metadata": {},
   "outputs": [],
   "source": [
    "# default_exp generator"
   ]
  },
  {
   "cell_type": "markdown",
   "metadata": {},
   "source": [
    "# Sequence request generator\n",
    "\n",
    "> Generate sequence request for EVROGEN of GENOM"
   ]
  },
  {
   "cell_type": "code",
   "execution_count": null,
   "metadata": {},
   "outputs": [],
   "source": [
    "#hide\n",
    "from nbdev.showdoc import *"
   ]
  },
  {
   "cell_type": "code",
   "execution_count": null,
   "metadata": {},
   "outputs": [],
   "source": [
    "#export\n",
    "import os\n",
    "from airtable import airtable\n",
    "import numpy as np\n",
    "import pandas as pd\n",
    "import xlsxwriter\n",
    "import collections"
   ]
  },
  {
   "cell_type": "code",
   "execution_count": null,
   "metadata": {},
   "outputs": [],
   "source": [
    "#export\n",
    "base_key = os.environ['AIR_BASE_KEY']\n",
    "table_name = os.environ['AIR_TABLE_NAME']\n",
    "api_key = os.environ['AIR_API_KEY']\n",
    "\n",
    "promoters = {'CMV':'c1for2', \n",
    "             'hPGK':'PGK F', \n",
    "             'PGK':'PGK F', \n",
    "             'EF1':'EF1 F', \n",
    "             'CAG':None, \n",
    "             'pCAG':None, \n",
    "             'SV40':'SV40 F'}\n",
    "\n",
    "terminators = {'SV40':'c1rev2', \n",
    "               'BGH':'BGH R', \n",
    "               'rbGlob':'G R', \n",
    "               'PGK':'PGK R'}\n",
    "\n",
    "conc = \"5 mkM\"\n",
    "\n",
    "plasmida = \"Plasmid\""
   ]
  },
  {
   "cell_type": "code",
   "execution_count": null,
   "metadata": {},
   "outputs": [],
   "source": [
    "#export\n",
    "airtable = airtable.Airtable(base_key, api_key=api_key)"
   ]
  },
  {
   "cell_type": "markdown",
   "metadata": {},
   "source": [
    "Connected to airtable correctly?"
   ]
  },
  {
   "cell_type": "code",
   "execution_count": null,
   "metadata": {},
   "outputs": [],
   "source": [
    "assert type(airtable.airtable_url) == str, 'ConnectionError:'\n",
    "assert type(airtable.get(table_name)['records'][12]) == collections.OrderedDict, 'Ochibka:'"
   ]
  },
  {
   "cell_type": "code",
   "execution_count": null,
   "metadata": {},
   "outputs": [],
   "source": [
    "#export\n",
    "names = []\n",
    "seqIDs = []\n",
    "\n",
    "for r in airtable.iterate(table_name):\n",
    "    if r['fields']:\n",
    "        names.append(r['fields']['Name'])\n",
    "        seqIDs.append('{:.2f}'.format(r['fields']['SeqID']))\n",
    "        \n",
    "pandaframe = pd.DataFrame({'Name':names, 'SeqID': seqIDs}).round(decimals=2)"
   ]
  },
  {
   "cell_type": "markdown",
   "metadata": {},
   "source": [
    "Check names and IDs"
   ]
  },
  {
   "cell_type": "code",
   "execution_count": null,
   "metadata": {},
   "outputs": [],
   "source": [
    "assert len(names) != 0, 'EmptyNames:'\n",
    "assert len(seqIDs) != 0, 'EmptySeqID:'"
   ]
  },
  {
   "cell_type": "code",
   "execution_count": null,
   "metadata": {},
   "outputs": [],
   "source": []
  }
 ],
 "metadata": {
  "kernelspec": {
   "display_name": "Python 3",
   "language": "python",
   "name": "python3"
  }
 },
 "nbformat": 4,
 "nbformat_minor": 4
}
